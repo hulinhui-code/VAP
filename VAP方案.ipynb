{
 "cells": [
  {
   "cell_type": "markdown",
   "metadata": {},
   "source": [
    "# 政策法规"
   ]
  },
  {
   "cell_type": "markdown",
   "metadata": {},
   "source": [
    "## [《医疗卫生机构开展临床研究项目管理办法》](http://www.nhc.gov.cn/yzygj/s3593g/201410/9bd03858c3aa41ed8aed17467645fb68.shtml)及[解读](http://www.nhc.gov.cn/yzygj/s3594r/201410/e7be4b9323574c37be0369f7b2c48ca5.shtml)"
   ]
  },
  {
   "cell_type": "markdown",
   "metadata": {},
   "source": [
    "##  [研究者发起临床研究的运行管理制度和流程](https://www.kdocs.cn/p/97396472658?from=docs) [茂名市人民医院](https://www.kdocs.cn/p/97401546913?from=docs)"
   ]
  },
  {
   "cell_type": "markdown",
   "metadata": {},
   "source": [
    "## [世界医学会《赫尔辛基宣言》](https://www.kdocs.cn/p/97404414026?from=docs)"
   ]
  },
  {
   "cell_type": "markdown",
   "metadata": {},
   "source": [
    "## [《药物临床试验质量管理规范》](https://www.kdocs.cn/p/97413196205?from=docs)"
   ]
  },
  {
   "cell_type": "markdown",
   "metadata": {},
   "source": [
    "## ICH-GCP [中文版](https://www.kdocs.cn/p/97422385549?from=docs) [英文版](https://www.kdocs.cn/p/97421598241?from=docs)\n",
    "\n",
    "ICH是国际合作的多中心项目需遵守的规范。"
   ]
  },
  {
   "cell_type": "markdown",
   "metadata": {},
   "source": [
    "# 研究方案"
   ]
  },
  {
   "cell_type": "markdown",
   "metadata": {
    "ExecuteTime": {
     "end_time": "2020-12-28T08:47:29.453340Z",
     "start_time": "2020-12-28T08:47:29.446533Z"
    }
   },
   "source": [
    "## 构建函数"
   ]
  },
  {
   "cell_type": "code",
   "execution_count": 3,
   "metadata": {
    "ExecuteTime": {
     "end_time": "2020-12-31T03:13:57.545374Z",
     "start_time": "2020-12-31T03:13:57.540386Z"
    }
   },
   "outputs": [],
   "source": [
    "from IPython.display import IFrame\n",
    "def display_file(file_path):       # 可以是网址或本地文件\n",
    "    return IFrame(file_path, width=950, height=900)   # 前面必须添加return\n",
    "\n",
    "\n",
    "from IPython.display import Image\n",
    "def display_img(img_path):\n",
    "    display(Image(imagePath))"
   ]
  },
  {
   "cell_type": "code",
   "execution_count": 9,
   "metadata": {
    "ExecuteTime": {
     "end_time": "2020-12-29T08:31:56.635155Z",
     "start_time": "2020-12-29T08:31:56.619383Z"
    },
    "cell_style": "center",
    "scrolled": true
   },
   "outputs": [
    {
     "data": {
      "text/html": [
       "\n",
       "        <iframe\n",
       "            width=\"950\"\n",
       "            height=\"900\"\n",
       "            src=\"https://www.kdocs.cn/p/97366449604?from=docs\"\n",
       "            frameborder=\"0\"\n",
       "            allowfullscreen\n",
       "        ></iframe>\n",
       "        "
      ],
      "text/plain": [
       "<IPython.lib.display.IFrame at 0x22cd3104e50>"
      ]
     },
     "execution_count": 9,
     "metadata": {},
     "output_type": "execute_result"
    }
   ],
   "source": [
    "display_file(\"https://www.kdocs.cn/p/97366449604?from=docs\")"
   ]
  },
  {
   "cell_type": "markdown",
   "metadata": {
    "ExecuteTime": {
     "end_time": "2020-12-15T15:48:57.468045Z",
     "start_time": "2020-12-15T15:48:57.463093Z"
    }
   },
   "source": [
    "## 研究步骤"
   ]
  },
  {
   "cell_type": "markdown",
   "metadata": {},
   "source": [
    "### 内镜置管方案\n",
    "\n",
    "+ **异物钳法**  \n",
    "危重患者进行吸氧，实时监测心电和血氧饱和度，患者麻醉后，取左卧位，进行操作过程中，口腔中不能留有分泌物。从鼻孔插入润滑过的鼻肠管，大概25cm深，通过胃镜将鼻肠管送至胃腔，对食管胃十二指肠进行观察，确定其无病变或梗阻。用异物钳夹住鼻肠管头端，缓慢推入十二指肠降部，将鼻肠管进行固定，胃镜回到胃腔，异物钳松开到胃腔。3次左右后将其送至 Treitz韧带下大概20~40cm。将鼻肠管固定好后，退出胃镜和鼻肠管导丝。\n",
    "+ **拖拽法**  \n",
    "缝合线被放置在鼻肠管的远端，然后通过鼻孔到达胃，接着是胃镜。活检钳通过胃镜抓住缝线，一起推进小肠。然后，当胃镜缩回时，通过抓住、推进、释放和再次抓住鼻肠管，鼻肠管被留在原位。鼻肠管与胃镜的摩擦可能会导致胃食管返流管的回缩。可对胃进行减压以减少胃内的卷曲，对EFT和胃镜进行充分润滑，以及使用带有内部导丝的鼻肠管来提供刚性(一根0.052英寸或两根0.035英寸的导丝穿过EFT管而不离开管的尖端)。或者，可以使用内窥镜夹来抓住连接的缝线并根据需要推进EFT，而不是使用活检钳。在所需的插入深度，可以使用止血夹将肠饲管缝线固定在小肠粘膜上。这种方法已被证明可提高肠饲管放置的初始成功率，并减少逆行管迁移，随后需要重复内窥镜检查。\n",
    "+ **通过导丝**  \n",
    "将胃镜推进小肠，用导丝沿活检通道替换胃镜，将导丝留在原位。导丝经口退出，鼻肠管通过鼻孔进入咽部。用镊子抓住管的远端，使远端经口离开。导丝通过该导管从鼻端引出。接下来，将导管从鼻腔缩回，将导丝留在原位。鼻肠管通过导丝输送到小肠（图1）。\n",
    "![图1](胃镜下幽门后置管.png)\n",
    "+ **通过胃镜**  \n",
    "小直径鼻肠管可以通过治疗镜的活组织检查通道。通过内窥镜活检通道放置一根240厘米8或10-Fr规格的鼻肠管。一旦鼻肠管的远端处于合适的位置，就可以用鼻肠管更换内窥镜。鼻肠管的延长长度使其能够在换镜和移出鼻肠管时保持原位。然后将鼻肠管切割成所需长度，并如前所述进行口鼻转移。\n",
    "+ **超小型胃镜**  \n",
    "超薄胃镜通过鼻孔沿上消化道进入小肠。软尖端导丝可以插入通道，然后与胃镜交换，将导丝留在原位。然后在导丝上推进扩张管，一旦扩张管插入达到合适的深度，就取出导丝。"
   ]
  },
  {
   "cell_type": "markdown",
   "metadata": {},
   "source": [
    "## VAP任务列表"
   ]
  },
  {
   "cell_type": "code",
   "execution_count": 8,
   "metadata": {
    "ExecuteTime": {
     "end_time": "2020-12-29T08:27:52.069836Z",
     "start_time": "2020-12-29T08:27:52.054737Z"
    }
   },
   "outputs": [
    {
     "data": {
      "image/png": "[encoded data removed]",
      "text/plain": [
       "<IPython.core.display.Image object>"
      ]
     },
     "metadata": {},
     "output_type": "display_data"
    }
   ],
   "source": [
    "imagePath=r'C:\\Users\\Jack\\Desktop\\图片\\VAP待办.png'\n",
    "display_img(imagePath)"
   ]
  },
  {
   "cell_type": "markdown",
   "metadata": {},
   "source": [
    "## 方案参考\n",
    "\n",
    "This supplement contains the following items:\n",
    "1. Original protocol, final protocol, summary of changes.\n",
    "2. Original statistical analysis plan, final statistical analysis plan, summary of changes"
   ]
  },
  {
   "cell_type": "code",
   "execution_count": 5,
   "metadata": {
    "ExecuteTime": {
     "end_time": "2020-12-31T03:14:05.294542Z",
     "start_time": "2020-12-31T03:14:05.284569Z"
    }
   },
   "outputs": [
    {
     "data": {
      "text/html": [
       "\n",
       "        <iframe\n",
       "            width=\"950\"\n",
       "            height=\"900\"\n",
       "            src=\"https://www.kdocs.cn/p/99537195419\"\n",
       "            frameborder=\"0\"\n",
       "            allowfullscreen\n",
       "        ></iframe>\n",
       "        "
      ],
      "text/plain": [
       "<IPython.lib.display.IFrame at 0x1ff19ba3700>"
      ]
     },
     "execution_count": 5,
     "metadata": {},
     "output_type": "execute_result"
    }
   ],
   "source": [
    "display_file('https://www.kdocs.cn/p/99537195419')"
   ]
  },
  {
   "cell_type": "markdown",
   "metadata": {},
   "source": [
    "## SOP参考"
   ]
  },
  {
   "cell_type": "code",
   "execution_count": 6,
   "metadata": {
    "ExecuteTime": {
     "end_time": "2020-12-31T03:20:46.715218Z",
     "start_time": "2020-12-31T03:20:46.710257Z"
    }
   },
   "outputs": [
    {
     "data": {
      "text/html": [
       "\n",
       "        <iframe\n",
       "            width=\"950\"\n",
       "            height=\"900\"\n",
       "            src=\"https://www.kdocs.cn/p/99536715507\"\n",
       "            frameborder=\"0\"\n",
       "            allowfullscreen\n",
       "        ></iframe>\n",
       "        "
      ],
      "text/plain": [
       "<IPython.lib.display.IFrame at 0x1ff19ba37c0>"
      ]
     },
     "execution_count": 6,
     "metadata": {},
     "output_type": "execute_result"
    }
   ],
   "source": [
    "display_file('https://www.kdocs.cn/p/99536715507')"
   ]
  },
  {
   "cell_type": "code",
   "execution_count": null,
   "metadata": {},
   "outputs": [],
   "source": []
  }
 ],
 "metadata": {
  "hide_input": false,
  "kernelspec": {
   "display_name": "Python 3",
   "language": "python",
   "name": "python3"
  },
  "language_info": {
   "codemirror_mode": {
    "name": "ipython",
    "version": 3
   },
   "file_extension": ".py",
   "mimetype": "text/x-python",
   "name": "python",
   "nbconvert_exporter": "python",
   "pygments_lexer": "ipython3",
   "version": "3.8.5"
  },
  "toc": {
   "base_numbering": 1,
   "nav_menu": {
    "height": "185px",
    "width": "457px"
   },
   "number_sections": true,
   "sideBar": true,
   "skip_h1_title": false,
   "title_cell": "Table of Contents",
   "title_sidebar": "Contents",
   "toc_cell": false,
   "toc_position": {
    "height": "calc(100% - 180px)",
    "left": "10px",
    "top": "150px",
    "width": "279.263px"
   },
   "toc_section_display": true,
   "toc_window_display": true
  }
 },
 "nbformat": 4,
 "nbformat_minor": 4
}
